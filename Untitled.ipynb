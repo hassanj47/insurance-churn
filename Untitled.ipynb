{
 "cells": [
  {
   "cell_type": "code",
   "execution_count": 1,
   "id": "dc59efcc-c4d7-4fee-83be-30380b79df7f",
   "metadata": {},
   "outputs": [],
   "source": [
    "from datetime import datetime"
   ]
  },
  {
   "cell_type": "code",
   "execution_count": 8,
   "id": "01e3507e-5921-4715-a48e-f37fe0dbe8f5",
   "metadata": {},
   "outputs": [
    {
     "data": {
      "text/plain": [
       "'2025-02-11_02-45-54'"
      ]
     },
     "execution_count": 8,
     "metadata": {},
     "output_type": "execute_result"
    }
   ],
   "source": [
    "# Format the datetime string for use in a filename (removing colons and microseconds)\n",
    "filename_datetime_str = datetime.now().strftime(\"%Y-%m-%d_%H-%M-%S\")\n",
    "\n",
    "filename_datetime_str"
   ]
  },
  {
   "cell_type": "code",
   "execution_count": null,
   "id": "f79c036f-d852-4091-9f2b-da82049f5083",
   "metadata": {},
   "outputs": [],
   "source": [
    "Below is my script that runs in AWS Sagemaker. I want you to add code in it to read the latest insurace_data_<timestamp>.csv file from a s3 bucket."
   ]
  }
 ],
 "metadata": {
  "kernelspec": {
   "display_name": "Python 3 (ipykernel)",
   "language": "python",
   "name": "python3"
  },
  "language_info": {
   "codemirror_mode": {
    "name": "ipython",
    "version": 3
   },
   "file_extension": ".py",
   "mimetype": "text/x-python",
   "name": "python",
   "nbconvert_exporter": "python",
   "pygments_lexer": "ipython3",
   "version": "3.11.11"
  }
 },
 "nbformat": 4,
 "nbformat_minor": 5
}
